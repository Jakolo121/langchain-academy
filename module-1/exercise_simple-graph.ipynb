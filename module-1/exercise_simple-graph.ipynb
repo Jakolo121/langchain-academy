{
 "cells": [
  {
   "cell_type": "code",
   "execution_count": 11,
   "metadata": {},
   "outputs": [],
   "source": [
    "from typing_extensions import TypedDict\n",
    "from typing import Literal\n",
    "from langgraph.graph import StateGraph , START, END \n",
    "from IPython.display import Image, display"
   ]
  },
  {
   "cell_type": "markdown",
   "metadata": {},
   "source": [
    "Define the State Class of the Graph as a TypedDict\n",
    "example: calculate Agent -> States saves a number as float"
   ]
  },
  {
   "cell_type": "code",
   "execution_count": 22,
   "metadata": {},
   "outputs": [],
   "source": [
    "class State(TypedDict):\n",
    "    graph_state: float"
   ]
  },
  {
   "cell_type": "markdown",
   "metadata": {},
   "source": [
    "Define the **Nodes** of the Graph as functions "
   ]
  },
  {
   "cell_type": "code",
   "execution_count": 64,
   "metadata": {},
   "outputs": [],
   "source": [
    "import random\n",
    "\n",
    "def start_value(state): \n",
    "    print(\"--Node0: Start with:\" + str(state['graph_state']) + \"--\")\n",
    "    return {\"graph_state\": state['graph_state']}\n",
    "\n",
    "def add_rn(state):\n",
    "    add_rn = random.random()\n",
    "    print(\"--Node1:Add \" + str(add_rn)+ \" to--\")\n",
    "    return {\"graph_state\": float(state[\"graph_state\"]) + add_rn}\n",
    "\n",
    "def divide_rn(state):\n",
    "    div_rn = random.randrange(1, 100, 5)\n",
    "    print(\"--Node2:Divide by \" + str(div_rn) + \"--\")\n",
    "    return {\"graph_state\": float(state[\"graph_state\"]) / div_rn}\n",
    "\n",
    "def multiply_rn(state):\n",
    "    mulit_rn = random.random()\n",
    "    print(\"--Node3:multiply by \"+ str(mulit_rn) + \"--\")\n",
    "    return {\"graph_state\": float(state[\"graph_state\"]) * mulit_rn}"
   ]
  },
  {
   "cell_type": "markdown",
   "metadata": {},
   "source": [
    "Define the **edges** of the Graph!"
   ]
  },
  {
   "cell_type": "code",
   "execution_count": 29,
   "metadata": {},
   "outputs": [],
   "source": [
    "def decide_operation(state) -> Literal[\"add_rn\",\"divide_rn\",\"multiply_rn\"]:\n",
    "    if random.randrange(0,100) < 33:\n",
    "        return \"add_rn\"\n",
    "    elif random.randrange(34,100) < 66:\n",
    "        return \"divide_rn\"\n",
    "    else: return \"multiply_rn\""
   ]
  },
  {
   "cell_type": "markdown",
   "metadata": {},
   "source": [
    "Build the **Graph** with the builder that inherit form StateGraph"
   ]
  },
  {
   "cell_type": "code",
   "execution_count": 65,
   "metadata": {},
   "outputs": [],
   "source": [
    "builder = StateGraph(State) #the builder is an Instanze of the StateGraph Class that inherits from State\n",
    "\n",
    "#Add the nodes\n",
    "builder.add_node(\"start_value\", start_value)\n",
    "builder.add_node(\"add_rn\", add_rn)\n",
    "builder.add_node(\"divide_rn\", divide_rn)\n",
    "builder.add_node(\"multiply_rn\", multiply_rn)\n",
    "\n",
    "#adds the edges\n",
    "builder.add_edge(START, \"start_value\")\n",
    "builder.add_conditional_edges(\"start_value\", decide_operation)\n",
    "builder.add_edge(\"add_rn\",END)\n",
    "builder.add_edge(\"divide_rn\", END)\n",
    "builder.add_edge(\"multiply_rn\", END)\n",
    "\n",
    "#compile the Graph\n",
    "graph = builder.compile()\n",
    "\n",
    "#Inspect the Graph\n",
    "#display(Image(graph.get_graph().draw_mermaid_png()))"
   ]
  },
  {
   "cell_type": "markdown",
   "metadata": {},
   "source": [
    "**invoke** the Graph with an intial value of the State. The inital vlaue is a dict with k:graph_state and v: init vlaue"
   ]
  },
  {
   "cell_type": "code",
   "execution_count": 72,
   "metadata": {},
   "outputs": [
    {
     "name": "stdout",
     "output_type": "stream",
     "text": [
      "--Node0: Start with:3.989977--\n",
      "--Node2:Divide by 11--\n"
     ]
    },
    {
     "data": {
      "text/plain": [
       "{'graph_state': 0.3627251818181818}"
      ]
     },
     "execution_count": 72,
     "metadata": {},
     "output_type": "execute_result"
    }
   ],
   "source": [
    "graph.invoke({\"graph_state\": 3.989977})"
   ]
  },
  {
   "cell_type": "code",
   "execution_count": 31,
   "metadata": {},
   "outputs": [
    {
     "name": "stdout",
     "output_type": "stream",
     "text": [
      "--Node0: Start--\n",
      "--Node1:Add--\n"
     ]
    },
    {
     "data": {
      "text/plain": [
       "{'graph_state': 3.482986295377531}"
      ]
     },
     "execution_count": 31,
     "metadata": {},
     "output_type": "execute_result"
    }
   ],
   "source": [
    "graph.invoke({\"graph_state\": 3.1})"
   ]
  },
  {
   "cell_type": "markdown",
   "metadata": {},
   "source": [
    "## defining the message state and reducers"
   ]
  },
  {
   "cell_type": "code",
   "execution_count": 2,
   "metadata": {},
   "outputs": [],
   "source": [
    "from typing_extensions import TypedDict\n",
    "from langchain_core.messages import AnyMessage\n",
    "\n",
    "class MessagesState(TypedDict):\n",
    "    messages : list[AnyMessage]"
   ]
  },
  {
   "cell_type": "markdown",
   "metadata": {},
   "source": [
    "By default the messsges get override after each node runs. To prevent this we need to add the \"add_message\" reducer and Annotde the value of messages with the reducer"
   ]
  },
  {
   "cell_type": "code",
   "execution_count": 3,
   "metadata": {},
   "outputs": [],
   "source": [
    "from typing import Annotated\n",
    "from langgraph.graph.message import add_messages\n",
    "\n",
    "class MessagesState(TypedDict):\n",
    "    messages :  Annotated[list[AnyMessage], add_messages]"
   ]
  },
  {
   "cell_type": "markdown",
   "metadata": {},
   "source": [
    "or use a prebuild MessageState from langgraph.graph"
   ]
  },
  {
   "cell_type": "code",
   "execution_count": null,
   "metadata": {},
   "outputs": [],
   "source": [
    "from langgraph.graph import MessagesState\n",
    "\n",
    "class MessagesState(MessagesState):\n",
    "    pass"
   ]
  },
  {
   "cell_type": "markdown",
   "metadata": {},
   "source": [
    "### Build the graph using MessagesState as our State"
   ]
  },
  {
   "cell_type": "code",
   "execution_count": 10,
   "metadata": {},
   "outputs": [
    {
     "data": {
      "text/html": [
       "\n",
       "        <iframe\n",
       "            width=\"800\"\n",
       "            height=\"600\"\n",
       "            src=\"https://www.youtube.com/dQw4w9WgXcQ\"\n",
       "            frameborder=\"0\"\n",
       "            allowfullscreen\n",
       "            \n",
       "        ></iframe>\n",
       "        "
      ],
      "text/plain": [
       "<IPython.lib.display.IFrame at 0x10df4c770>"
      ]
     },
     "metadata": {},
     "output_type": "display_data"
    }
   ],
   "source": [
    "from IPython.display import  Image, display\n",
    "from langgraph.graph import START, END, MessagesState, StateGraph\n",
    "\n",
    "class MessagesState(MessagesState):\n",
    "    pass\n",
    "\n",
    "def tool_calling_llm(state: MessagesState):\n",
    "    return{\"messages\": [llm_with_tools.invoke(state[\"messages\"])]}\n",
    "\n"
   ]
  }
 ],
 "metadata": {
  "kernelspec": {
   "display_name": "all_libs",
   "language": "python",
   "name": "python3"
  },
  "language_info": {
   "codemirror_mode": {
    "name": "ipython",
    "version": 3
   },
   "file_extension": ".py",
   "mimetype": "text/x-python",
   "name": "python",
   "nbconvert_exporter": "python",
   "pygments_lexer": "ipython3",
   "version": "3.12.4"
  }
 },
 "nbformat": 4,
 "nbformat_minor": 2
}
